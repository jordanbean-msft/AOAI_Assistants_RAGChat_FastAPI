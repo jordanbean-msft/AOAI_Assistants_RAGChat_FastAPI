{
 "cells": [
  {
   "cell_type": "markdown",
   "metadata": {},
   "source": [
    "## Setup - Create Azure OpenAI Assistant - Data Analysis\n",
    "\n",
    "The notebook below demonstrates how to create an Assistant using the Azure OpenAI Assistants API to be used for interactive data analysis/visualization via the Assistants API's Code Interpreter tool (sandboxed execution of LLM-generated python).\n",
    "\n",
    "Retrieve the created assistant's ID for testing in the app in this repo."
   ]
  },
  {
   "cell_type": "markdown",
   "metadata": {},
   "source": [
    "### Load required packages"
   ]
  },
  {
   "cell_type": "code",
   "execution_count": null,
   "metadata": {},
   "outputs": [],
   "source": [
    "import os\n",
    "from openai import AzureOpenAI\n",
    "from dotenv import load_dotenv\n",
    "\n",
    "load_dotenv(override=True)"
   ]
  },
  {
   "cell_type": "markdown",
   "metadata": {},
   "source": [
    "### Create Azure OpenAI Client"
   ]
  },
  {
   "cell_type": "code",
   "execution_count": 2,
   "metadata": {},
   "outputs": [],
   "source": [
    "client = AzureOpenAI(\n",
    "            azure_endpoint=os.environ[\"AOAI_ENDPOINT\"],\n",
    "            api_key=os.environ[\"AOAI_KEY\"],\n",
    "            api_version=os.getenv(\"AZURE_OPENAI_API_VERSION\", \"2024-02-15-preview\"),\n",
    "        )\n"
   ]
  },
  {
   "cell_type": "markdown",
   "metadata": {},
   "source": [
    "### Load or overwrite instructions"
   ]
  },
  {
   "cell_type": "code",
   "execution_count": null,
   "metadata": {},
   "outputs": [],
   "source": [
    "instructions = open('assistant.txt', 'r').read()\n",
    "print(instructions)"
   ]
  },
  {
   "cell_type": "markdown",
   "metadata": {},
   "source": [
    "### Create Assistant"
   ]
  },
  {
   "cell_type": "code",
   "execution_count": 5,
   "metadata": {},
   "outputs": [],
   "source": [
    "assistant = client.beta.assistants.create(\n",
    "    name=\"RAG Chat Assistant (Peloton)\",\n",
    "    instructions=instructions,\n",
    "    tools=[{\n",
    "        \"type\": \"function\",\n",
    "        \"function\":{\n",
    "        \"name\": \"retrieve_documents\",\n",
    "        \"description\": \"Retrieve Peloton-related information based on keywords\",\n",
    "        \"parameters\": {\n",
    "            \"type\": \"object\",\n",
    "            \"properties\": {\n",
    "            \"keywords\": {\n",
    "                \"type\": \"string\",\n",
    "                \"description\": \"Search terms to find relevant Peloton information\"\n",
    "            },\n",
    "            \"document_count\": {\n",
    "                \"type\": \"integer\",\n",
    "                \"description\": \"The number of documents to retrieve based on the search terms\"\n",
    "            }\n",
    "            },\n",
    "            \"required\": [\n",
    "            \"keywords\",\n",
    "            \"document_count\"\n",
    "            ]\n",
    "        },\n",
    "        \"strict\": False\n",
    "    }}],\n",
    "    model=\"gpt-4o\" #You must replace this value with the deployment name for your model.\n",
    ")"
   ]
  },
  {
   "cell_type": "markdown",
   "metadata": {},
   "source": [
    "### Retrieve Assistant ID"
   ]
  },
  {
   "cell_type": "code",
   "execution_count": null,
   "metadata": {},
   "outputs": [],
   "source": [
    "assistant_id = assistant.id\n",
    "print(assistant_id)"
   ]
  }
 ],
 "metadata": {
  "kernelspec": {
   "display_name": "Python 3",
   "language": "python",
   "name": "python3"
  },
  "language_info": {
   "codemirror_mode": {
    "name": "ipython",
    "version": 3
   },
   "file_extension": ".py",
   "mimetype": "text/x-python",
   "name": "python",
   "nbconvert_exporter": "python",
   "pygments_lexer": "ipython3",
   "version": "3.11.9"
  }
 },
 "nbformat": 4,
 "nbformat_minor": 2
}
