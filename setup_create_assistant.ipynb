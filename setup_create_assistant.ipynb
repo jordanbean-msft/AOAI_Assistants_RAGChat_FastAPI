{
 "cells": [
  {
   "cell_type": "markdown",
   "metadata": {},
   "source": [
    "## Setup - Create Azure OpenAI Assistant - Data Analysis\n",
    "\n",
    "The notebook below demonstrates how to create an Assistant using the Azure OpenAI Assistants API to be used for interactive data analysis/visualization via the Assistants API's Code Interpreter tool (sandboxed execution of LLM-generated python).\n",
    "\n",
    "Retrieve the created assistant's ID for testing in the app in this repo."
   ]
  },
  {
   "cell_type": "markdown",
   "metadata": {},
   "source": [
    "### Load required packages"
   ]
  },
  {
   "cell_type": "code",
   "execution_count": 7,
   "metadata": {},
   "outputs": [
    {
     "data": {
      "text/plain": [
       "True"
      ]
     },
     "execution_count": 7,
     "metadata": {},
     "output_type": "execute_result"
    }
   ],
   "source": [
    "import os\n",
    "from openai import AzureOpenAI\n",
    "from dotenv import load_dotenv\n",
    "\n",
    "load_dotenv(override=True)"
   ]
  },
  {
   "cell_type": "markdown",
   "metadata": {},
   "source": [
    "### Create Azure OpenAI Client"
   ]
  },
  {
   "cell_type": "code",
   "execution_count": 8,
   "metadata": {},
   "outputs": [],
   "source": [
    "client = AzureOpenAI(\n",
    "            azure_endpoint=os.environ[\"AOAI_ENDPOINT\"],\n",
    "            api_key=os.environ[\"AOAI_KEY\"],\n",
    "            api_version=os.getenv(\"AZURE_OPENAI_API_VERSION\", \"2024-02-15-preview\"),\n",
    "        )\n"
   ]
  },
  {
   "cell_type": "markdown",
   "metadata": {},
   "source": [
    "### Load or overwrite instructions"
   ]
  },
  {
   "cell_type": "code",
   "execution_count": 9,
   "metadata": {},
   "outputs": [
    {
     "name": "stdout",
     "output_type": "stream",
     "text": [
      "You are a helpful AI Assistant that assists users in answering their questions about Peloton exercise equipment.\n",
      "\n",
      "You have access to a tool called 'retrieve_documents' which allows you to dynamically search for peloton equipment information to address user questions.\n",
      "\n",
      "You should always retrieve source information when answering a user question and answer ONLY with facts that you retrieve from your search.\n",
      "\n",
      "If there is not enough information to answer the user's question, you should say you don't know. If asking a clarifying question would help, ask the question. \n",
      "\n",
      "For tabular information return it as an html table. Do not return markdown format. If the question is not in English, answer in the language used in the question.\n",
      "\n",
      "Each source has a name followed by colon and the actual information, always include the source name for each fact you use in the response. Use square brackets to reference the source, for example [source_page.txt]. Don't combine sources, list each source separately, for example [source_page_1.txt][source_page_2.pdf].\n"
     ]
    }
   ],
   "source": [
    "instructions = open('assistant.txt', 'r').read()\n",
    "print(instructions)"
   ]
  },
  {
   "cell_type": "markdown",
   "metadata": {},
   "source": [
    "### Create Assistant"
   ]
  },
  {
   "cell_type": "code",
   "execution_count": 10,
   "metadata": {},
   "outputs": [],
   "source": [
    "assistant = client.beta.assistants.create(\n",
    "    name=\"RAG Chat Assistant (Peloton)\",\n",
    "    instructions=instructions,\n",
    "    tools=[{\n",
    "        \"type\": \"function\",\n",
    "        \"function\":{\n",
    "        \"name\": \"retrieve_documents\",\n",
    "        \"description\": \"Retrieve Peloton-related information based on keywords\",\n",
    "        \"parameters\": {\n",
    "            \"type\": \"object\",\n",
    "            \"properties\": {\n",
    "            \"keywords\": {\n",
    "                \"type\": \"string\",\n",
    "                \"description\": \"Search terms to find relevant Peloton information\"\n",
    "            },\n",
    "            \"document_count\": {\n",
    "                \"type\": \"integer\",\n",
    "                \"description\": \"The number of documents to retrieve based on the search terms\"\n",
    "            }\n",
    "            },\n",
    "            \"required\": [\n",
    "            \"keywords\",\n",
    "            \"document_count\"\n",
    "            ]\n",
    "        },\n",
    "        \"strict\": False\n",
    "    }}],\n",
    "    model=\"gpt-4o\" #You must replace this value with the deployment name for your model.\n",
    ")"
   ]
  },
  {
   "cell_type": "markdown",
   "metadata": {},
   "source": [
    "### Retrieve Assistant ID"
   ]
  },
  {
   "cell_type": "code",
   "execution_count": 11,
   "metadata": {},
   "outputs": [
    {
     "name": "stdout",
     "output_type": "stream",
     "text": [
      "asst_peyaqamJC4QwvLZHeorfHoNl\n"
     ]
    }
   ],
   "source": [
    "assistant_id = assistant.id\n",
    "print(assistant_id)"
   ]
  }
 ],
 "metadata": {
  "kernelspec": {
   "display_name": ".venv",
   "language": "python",
   "name": "python3"
  },
  "language_info": {
   "codemirror_mode": {
    "name": "ipython",
    "version": 3
   },
   "file_extension": ".py",
   "mimetype": "text/x-python",
   "name": "python",
   "nbconvert_exporter": "python",
   "pygments_lexer": "ipython3",
   "version": "3.12.7"
  }
 },
 "nbformat": 4,
 "nbformat_minor": 2
}
