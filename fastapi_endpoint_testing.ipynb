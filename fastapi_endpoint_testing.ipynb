{
 "cells": [
  {
   "cell_type": "markdown",
   "metadata": {},
   "source": [
    "# Azure OpenAI Assistants API - Streaming RAG Chat FastAPI\n",
    "\n",
    "Notebook contains logic for testing an Azure OpenAI Assistants API deployment designed to answer questions from a RAG store (Azure AI Search Index). This notebook submits requests to either a local or cloud-hosted FastAPI endpoint which contains logic for creating threads, submitting messages, calling tools, and streaming chat responses. "
   ]
  },
  {
   "cell_type": "markdown",
   "metadata": {},
   "source": [
    "### Import required packages"
   ]
  },
  {
   "cell_type": "code",
   "execution_count": 1,
   "metadata": {},
   "outputs": [],
   "source": [
    "import requests\n",
    "import json\n",
    "from IPython.display import display, HTML, Markdown, clear_output\n",
    "import os\n",
    "\n",
    "import threading\n",
    "from dotenv import load_dotenv\n",
    "\n",
    "load_dotenv(override=True)\n",
    "\n",
    "uri = 'http://127.0.0.1:8000'"
   ]
  },
  {
   "cell_type": "markdown",
   "metadata": {},
   "source": [
    "### Streaming display helper function"
   ]
  },
  {
   "cell_type": "code",
   "execution_count": 2,
   "metadata": {},
   "outputs": [],
   "source": [
    "# Function to process and display the streamed response\n",
    "def process_streamed_response(response):\n",
    "    buffer = ''\n",
    "    try:\n",
    "        for line in response.iter_lines(decode_unicode=True):\n",
    "            if line:\n",
    "                buffer += line + '\\n'\n",
    "                clear_output(wait=True)\n",
    "                display(Markdown(buffer))\n",
    "               \n",
    "            \n",
    "        # Ensure the final content is displayed\n",
    "        clear_output(wait=True)\n",
    "        display(Markdown(buffer))\n",
    "    except Exception as e:\n",
    "        print(f\"An error occurred: {e}\")\n",
    "    finally:\n",
    "        response.close()"
   ]
  },
  {
   "cell_type": "markdown",
   "metadata": {},
   "source": [
    "### Workflow - Step #1: Create a Thread\n",
    "\n",
    "Following request creates a new Assistants API-managed thread"
   ]
  },
  {
   "cell_type": "code",
   "execution_count": 3,
   "metadata": {},
   "outputs": [],
   "source": [
    "response = requests.post(f\"{uri}/create_thread\")\n",
    "thread_id = response.json()"
   ]
  },
  {
   "cell_type": "markdown",
   "metadata": {},
   "source": [
    "### Workflow - Step #2: Submit User Query as New Message\n",
    "\n",
    "New message is added to the thread which is subsequently run. The response is then streamed and displayed here inline."
   ]
  },
  {
   "cell_type": "code",
   "execution_count": 4,
   "metadata": {},
   "outputs": [
    {
     "data": {
      "text/markdown": [
       "<i>Retrieving Documents...</i> {'keywords': 'turn on Peloton Bike', 'document_count': 3} <br><br>\n",
       "To turn on the Peloton Bike, follow these steps:\n",
       "1. Hold the power button for two seconds to power on the Bike.\n",
       "2. The Peloton Bike will sleep after about 20 minutes of inactivity. To wake the Bike, press the power button.\n",
       "3. To power down, hold the power button for two seconds and select \"Shut Down\" when prompted [Peloton Bike Manual US_CA_page_25.pdf].\n"
      ],
      "text/plain": [
       "<IPython.core.display.Markdown object>"
      ]
     },
     "metadata": {},
     "output_type": "display_data"
    }
   ],
   "source": [
    "url = f\"{uri}/run_assistant\"\n",
    "\n",
    "data={\n",
    "    'thread_id': thread_id, \n",
    "    'message': 'How do I turn on the Bike?'\n",
    "}\n",
    "\n",
    "# Send the POST request with stream=True\n",
    "response = requests.post(url, json=data, stream=True)\n",
    "\n",
    "# Check if the request was successful\n",
    "if response.status_code == 200:\n",
    "    # Start a separate thread to process the response\n",
    "    thread = threading.Thread(target=process_streamed_response, args=(response,))\n",
    "    thread.start()\n",
    "else:\n",
    "    print(f\"Error: {response.status_code}\")\n",
    "    print(response.text)"
   ]
  },
  {
   "cell_type": "markdown",
   "metadata": {},
   "source": [
    "### Workflow - Step #3: Continue Conversation\n",
    "\n",
    "Follow up with another question that builds on the initial question. Note that context is maintained via the Assistants API state management."
   ]
  },
  {
   "cell_type": "code",
   "execution_count": 5,
   "metadata": {},
   "outputs": [
    {
     "data": {
      "text/markdown": [
       "<i>Retrieving Documents...</i> {'keywords': 'turn on Peloton Row', 'document_count': 3} <br><br>\n",
       "To turn on the Peloton Row, follow these steps:\n",
       "1. Locate the power button on the back of the touchscreen.\n",
       "2. Press and hold the power button to turn on the Peloton Row [Peloton_Row_Manual_US_page_6.pdf].\n"
      ],
      "text/plain": [
       "<IPython.core.display.Markdown object>"
      ]
     },
     "metadata": {},
     "output_type": "display_data"
    }
   ],
   "source": [
    "url = f\"{uri}/run_assistant\"\n",
    "\n",
    "data={\n",
    "    'thread_id': thread_id, \n",
    "    'message': 'How about the Row?'\n",
    "}\n",
    "\n",
    "# Send the POST request with stream=True\n",
    "response = requests.post(url, json=data, stream=True)\n",
    "\n",
    "# Check if the request was successful\n",
    "if response.status_code == 200:\n",
    "    # Start a separate thread to process the response\n",
    "    thread = threading.Thread(target=process_streamed_response, args=(response,))\n",
    "    thread.start()\n",
    "else:\n",
    "    print(f\"Error: {response.status_code}\")\n",
    "    print(response.text)"
   ]
  },
  {
   "cell_type": "code",
   "execution_count": 6,
   "metadata": {},
   "outputs": [
    {
     "data": {
      "text/markdown": [
       "<i>Retrieving Documents...</i> {'keywords': 'Peloton Bike maintenance', 'document_count': 3} <br><br>\n",
       "<i>Retrieving Documents...</i> {'keywords': 'Peloton Row maintenance', 'document_count': 3} <br><br>\n",
       "### Peloton Bike Maintenance\n",
       "**After Your First Few Rides:**\n",
       "- **Pedals:** Use the included 15 mm wrench to tighten pedals [Peloton Bike Manual US_CA_page_30.pdf].\n",
       "**Every 3 to 5 Rides:**\n",
       "- **Cleaning:** Clean the Peloton Bike thoroughly using a damp cloth and a mild household cleaner diluted in water. Clean the touchscreen using an electronics wipe.\n",
       "- **Cleats:** Use a 4mm Allen wrench to tighten any loose screws attaching your cleats to your cycling shoes.\n",
       "- **Saddle:** Make sure the saddle is parallel to the ground. Then use the included 13mm wrench to tighten the seat-fixing nuts on both sides [Peloton Bike Manual US_CA_page_32.pdf].\n",
       "**Every 15 to 20 Rides:**\n",
       "- **Emergency Brake:** Press down on the resistance knob while pedaling slowly. The flywheel should come to a complete stop immediately. If it does not, stop using the Bike immediately and contact Peloton Support.\n",
       "- **Frame:** Check the entire frame for signs of wear and damage, and tighten any loose bolts [Peloton Bike Manual US_CA_page_32.pdf].\n",
       "**Annually:**\n",
       "- **Pedals:** Replace pedals. For replacement instructions, see support.onepeloton.com [Peloton Bike Manual US_CA_page_33.pdf].\n",
       "### Peloton Row Maintenance\n",
       "**Before Every Class:**\n",
       "- Check the area around and underneath the Peloton Row for potential obstructions.\n",
       "- Inspect the Peloton Row and do not use it if it appears damaged or inoperable [Peloton_Row_Manual_US_page_16.pdf].\n",
       "**Monthly:**\n",
       "- Check the power cord for damage.\n",
       "- Check the entire Row for wear and damage, especially the handle strap and foot straps.\n",
       "- Clean the area underneath the Row.\n",
       "- Remove the front cover of the Upright Wall Anchor and verify that the tether is secured to the mounting bracket and not frayed, and that the bolts are secured to the wall.\n",
       "- Clean all visible surfaces of the Row thoroughly using a damp cloth and a mild household cleaner diluted in water. Do not use harsh cleaning products containing bleach or ammonia [Peloton_Row_Manual_US_page_16.pdf].\n"
      ],
      "text/plain": [
       "<IPython.core.display.Markdown object>"
      ]
     },
     "metadata": {},
     "output_type": "display_data"
    }
   ],
   "source": [
    "url = f\"{uri}/run_assistant\"\n",
    "\n",
    "data={\n",
    "    'thread_id': thread_id, \n",
    "    'message': 'How do I maintain all of this equipment?'\n",
    "}\n",
    "\n",
    "# Send the POST request with stream=True\n",
    "response = requests.post(url, json=data, stream=True)\n",
    "\n",
    "# Check if the request was successful\n",
    "if response.status_code == 200:\n",
    "    # Start a separate thread to process the response\n",
    "    thread = threading.Thread(target=process_streamed_response, args=(response,))\n",
    "    thread.start()\n",
    "else:\n",
    "    print(f\"Error: {response.status_code}\")\n",
    "    print(response.text)\n"
   ]
  }
 ],
 "metadata": {
  "kernelspec": {
   "display_name": "Python 3",
   "language": "python",
   "name": "python3"
  },
  "language_info": {
   "codemirror_mode": {
    "name": "ipython",
    "version": 3
   },
   "file_extension": ".py",
   "mimetype": "text/x-python",
   "name": "python",
   "nbconvert_exporter": "python",
   "pygments_lexer": "ipython3",
   "version": "3.11.9"
  }
 },
 "nbformat": 4,
 "nbformat_minor": 2
}
