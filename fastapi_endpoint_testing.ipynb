{
 "cells": [
  {
   "cell_type": "markdown",
   "metadata": {},
   "source": [
    "# Azure OpenAI Assistants API - Streaming RAG Chat FastAPI\n",
    "\n",
    "Notebook contains logic for testing an Azure OpenAI Assistants API deployment designed to answer questions from a RAG store (Azure AI Search Index). This notebook submits requests to either a local or cloud-hosted FastAPI endpoint which contains logic for creating threads, submitting messages, calling tools, and streaming chat responses. "
   ]
  },
  {
   "cell_type": "markdown",
   "metadata": {},
   "source": [
    "### Import required packages"
   ]
  },
  {
   "cell_type": "code",
   "execution_count": 1,
   "metadata": {},
   "outputs": [],
   "source": [
    "import requests\n",
    "import json\n",
    "from IPython.display import display, HTML, Markdown, clear_output\n",
    "import os\n",
    "\n",
    "import threading\n",
    "from dotenv import load_dotenv\n",
    "\n",
    "load_dotenv(override=True)\n",
    "\n",
    "uri = 'http://127.0.0.1:8000'"
   ]
  },
  {
   "cell_type": "markdown",
   "metadata": {},
   "source": [
    "### Streaming display helper function"
   ]
  },
  {
   "cell_type": "code",
   "execution_count": 20,
   "metadata": {},
   "outputs": [],
   "source": [
    "# Function to process and display the streamed response\n",
    "def process_streamed_response(response):\n",
    "    buffer = ''\n",
    "    try:\n",
    "        for line in response.iter_lines(decode_unicode=True):\n",
    "            if line:\n",
    "                buffer += line + '\\n'\n",
    "                clear_output(wait=True)\n",
    "                display(Markdown(buffer))\n",
    "               \n",
    "            \n",
    "        # Ensure the final content is displayed\n",
    "        clear_output(wait=True)\n",
    "        display(Markdown(buffer))\n",
    "    except Exception as e:\n",
    "        print(f\"An error occurred: {e}\")\n",
    "    finally:\n",
    "        response.close()"
   ]
  },
  {
   "cell_type": "markdown",
   "metadata": {},
   "source": [
    "### Workflow - Step #1: Create a Thread\n",
    "\n",
    "Following request creates a new Assistants API-managed thread"
   ]
  },
  {
   "cell_type": "code",
   "execution_count": 19,
   "metadata": {},
   "outputs": [],
   "source": [
    "response = requests.post(f\"{uri}/create_thread\")\n",
    "thread_id = response.json()"
   ]
  },
  {
   "cell_type": "markdown",
   "metadata": {},
   "source": [
    "### Workflow - Step #2: Submit User Query as New Message\n",
    "\n",
    "New message is added to the thread which is subsequently run. The response is then streamed and displayed here inline."
   ]
  },
  {
   "cell_type": "code",
   "execution_count": null,
   "metadata": {},
   "outputs": [
    {
     "data": {
      "text/markdown": [
       "<i>Retrieving Documents...</i> {'keywords': 'health care options', 'document_count': 5} <br><br>\n"
      ],
      "text/plain": [
       "<IPython.core.display.Markdown object>"
      ]
     },
     "metadata": {},
     "output_type": "display_data"
    }
   ],
   "source": [
    "url = f\"{uri}/run_assistant\"\n",
    "\n",
    "data={\n",
    "    'thread_id': thread_id, \n",
    "    'message': 'What are my health care options?'\n",
    "}\n",
    "\n",
    "# Send the POST request with stream=True\n",
    "response = requests.post(url, json=data, stream=True)\n",
    "\n",
    "# Check if the request was successful\n",
    "if response.status_code == 200:\n",
    "    # Start a separate thread to process the response\n",
    "    thread = threading.Thread(target=process_streamed_response, args=(response,))\n",
    "    thread.start()\n",
    "else:\n",
    "    print(f\"Error: {response.status_code}\")\n",
    "    print(response.text)"
   ]
  },
  {
   "cell_type": "markdown",
   "metadata": {},
   "source": [
    "### Workflow - Step #3: Continue Conversation\n",
    "\n",
    "Follow up with another question that builds on the initial question. Note that context is maintained via the Assistants API state management."
   ]
  },
  {
   "cell_type": "code",
   "execution_count": 22,
   "metadata": {},
   "outputs": [
    {
     "data": {
      "text/markdown": [
       "<i>Retrieving Documents...</i> {'keywords': 'health care options', 'document_count': 3} <br><br>\n",
       "<i>Retrieving Documents...</i> {'keywords': 'dental care options', 'document_count': 3} <br><br>\n"
      ],
      "text/plain": [
       "<IPython.core.display.Markdown object>"
      ]
     },
     "metadata": {},
     "output_type": "display_data"
    }
   ],
   "source": [
    "url = f\"{uri}/run_assistant\"\n",
    "\n",
    "data={\n",
    "    'thread_id': thread_id, \n",
    "    'message': 'What about dental?'\n",
    "}\n",
    "\n",
    "# Send the POST request with stream=True\n",
    "response = requests.post(url, json=data, stream=True)\n",
    "\n",
    "# Check if the request was successful\n",
    "if response.status_code == 200:\n",
    "    # Start a separate thread to process the response\n",
    "    thread = threading.Thread(target=process_streamed_response, args=(response,))\n",
    "    thread.start()\n",
    "else:\n",
    "    print(f\"Error: {response.status_code}\")\n",
    "    print(response.text)"
   ]
  },
  {
   "cell_type": "code",
   "execution_count": 12,
   "metadata": {},
   "outputs": [],
   "source": [
    "url = f\"{uri}/run_assistant\"\n",
    "\n",
    "data={\n",
    "    'thread_id': thread_id, \n",
    "    'message': 'How do I maintain all of this equipment?'\n",
    "}\n",
    "\n",
    "# Send the POST request with stream=True\n",
    "response = requests.post(url, json=data, stream=True)\n",
    "\n",
    "# Check if the request was successful\n",
    "if response.status_code == 200:\n",
    "    # Start a separate thread to process the response\n",
    "    thread = threading.Thread(target=process_streamed_response, args=(response,))\n",
    "    thread.start()\n",
    "else:\n",
    "    print(f\"Error: {response.status_code}\")\n",
    "    print(response.text)\n"
   ]
  }
 ],
 "metadata": {
  "kernelspec": {
   "display_name": ".venv",
   "language": "python",
   "name": "python3"
  },
  "language_info": {
   "codemirror_mode": {
    "name": "ipython",
    "version": 3
   },
   "file_extension": ".py",
   "mimetype": "text/x-python",
   "name": "python",
   "nbconvert_exporter": "python",
   "pygments_lexer": "ipython3",
   "version": "3.12.7"
  }
 },
 "nbformat": 4,
 "nbformat_minor": 2
}
